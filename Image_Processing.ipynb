{
  "nbformat": 4,
  "nbformat_minor": 0,
  "metadata": {
    "colab": {
      "provenance": []
    },
    "kernelspec": {
      "name": "python3",
      "display_name": "Python 3"
    },
    "language_info": {
      "name": "python"
    }
  },
  "cells": [
    {
      "cell_type": "code",
      "execution_count": 1,
      "metadata": {
        "colab": {
          "base_uri": "https://localhost:8080/"
        },
        "id": "nVUdYr7uP9XZ",
        "outputId": "c3dc1b3a-2b0c-4e2e-8a16-714029a622f6"
      },
      "outputs": [
        {
          "output_type": "stream",
          "name": "stdout",
          "text": [
            "Created input folder: input_images. Please add images to process.\n",
            "Created output folder: output_images\n",
            "Found 0 images to process.\n",
            "No images found in the input folder.\n"
          ]
        }
      ],
      "source": [
        "import threading\n",
        "from queue import Queue, Empty\n",
        "from PIL import Image, ImageFilter\n",
        "import os\n",
        "\n",
        "class ImageProcessor:\n",
        "    def __init__(self, input_folder, output_folder, num_threads=4):\n",
        "        self.input_folder = input_folder\n",
        "        self.output_folder = output_folder\n",
        "        self.num_threads = num_threads\n",
        "        self.queue = Queue()\n",
        "        self.lock = threading.Lock()\n",
        "\n",
        "    def process_images(self):\n",
        "        # Create output folder if it doesn't exist\n",
        "        if not os.path.exists(self.output_folder):\n",
        "            os.makedirs(self.output_folder)\n",
        "            print(f\"Created output folder: {self.output_folder}\")\n",
        "\n",
        "        # Populate queue with image files\n",
        "        image_count = 0\n",
        "        for filename in os.listdir(self.input_folder):\n",
        "            if filename.lower().endswith(('.png', '.jpg', '.jpeg')):\n",
        "                self.queue.put(filename)\n",
        "                image_count += 1\n",
        "\n",
        "        print(f\"Found {image_count} images to process.\")\n",
        "\n",
        "        if image_count == 0:\n",
        "            print(\"No images found in the input folder.\")\n",
        "            return\n",
        "\n",
        "        # Create and start worker threads\n",
        "        threads = []\n",
        "        for i in range(self.num_threads):\n",
        "            thread = threading.Thread(target=self.worker, name=f\"Worker-{i+1}\")\n",
        "            thread.start()\n",
        "            threads.append(thread)\n",
        "            print(f\"Started thread {thread.name}\")\n",
        "\n",
        "        # Wait for all threads to complete\n",
        "        for thread in threads:\n",
        "            thread.join()\n",
        "            print(f\"Thread {thread.name} has completed.\")\n",
        "\n",
        "    def worker(self):\n",
        "        while True:\n",
        "            try:\n",
        "                # Get an image filename from the queue\n",
        "                filename = self.queue.get(block=False)\n",
        "            except Empty:  # Corrected exception handling\n",
        "                break\n",
        "\n",
        "            input_path = os.path.join(self.input_folder, filename)\n",
        "            output_path = os.path.join(self.output_folder, f\"processed_{filename}\")\n",
        "\n",
        "            try:\n",
        "                # Open the image\n",
        "                with Image.open(input_path) as img:\n",
        "                    # Apply a series of filters\n",
        "                    img = img.filter(ImageFilter.SHARPEN)\n",
        "                    img = img.filter(ImageFilter.EDGE_ENHANCE)\n",
        "                    img = img.filter(ImageFilter.SMOOTH)\n",
        "\n",
        "                    # Save the processed image\n",
        "                    img.save(output_path)\n",
        "\n",
        "                with self.lock:\n",
        "                    print(f\"Processed: {filename}\")\n",
        "\n",
        "            except Exception as e:\n",
        "                with self.lock:\n",
        "                    print(f\"Error processing {filename}: {str(e)}\")\n",
        "\n",
        "            self.queue.task_done()\n",
        "\n",
        "if __name__ == \"__main__\":\n",
        "    input_folder = \"input_images\"\n",
        "    output_folder = \"output_images\"\n",
        "\n",
        "    # Create the input folder if it doesn't exist\n",
        "    if not os.path.exists(input_folder):\n",
        "        os.makedirs(input_folder)\n",
        "        print(f\"Created input folder: {input_folder}. Please add images to process.\")\n",
        "\n",
        "    processor = ImageProcessor(input_folder, output_folder, num_threads=4)\n",
        "    processor.process_images()\n"
      ]
    }
  ]
}